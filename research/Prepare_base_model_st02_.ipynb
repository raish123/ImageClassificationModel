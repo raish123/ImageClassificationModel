{
 "cells": [
  {
   "cell_type": "code",
   "execution_count": 1,
   "metadata": {},
   "outputs": [],
   "source": [
    "from pathlib import Path\n",
    "import os,sys\n",
    "from src.ImageClassifier.Constants import *\n",
    "from src.ImageClassifier.Exception import CustomException\n",
    "from src.ImageClassifier.loggers import logger\n",
    "from src.ImageClassifier.Utils import Create_Directory,read_yaml_file,Save_Model\n",
    "from dataclasses import dataclass\n",
    "import tensorflow"
   ]
  },
  {
   "cell_type": "markdown",
   "metadata": {},
   "source": [
    "## step:3) update entity files"
   ]
  },
  {
   "cell_type": "code",
   "execution_count": 2,
   "metadata": {},
   "outputs": [],
   "source": [
    "#entity file is nothing but we r defining the parameters as class variable\n",
    "#which i was used in yaml file along with it type of parameter\n",
    "@dataclass\n",
    "class PrepareBaseModelConfig():\n",
    "    #defining the class variable init which was used in yaml file\n",
    "    root_dir_path:Path\n",
    "    base_model_path:Path\n",
    "    update_base_model_path:Path\n",
    "    include_top:bool\n",
    "    weights:str\n",
    "    input_shape:list\n",
    "    classes:int\n",
    "    batch_size:int\n",
    "    epochs:int\n",
    "    learning_rate:float"
   ]
  },
  {
   "cell_type": "markdown",
   "metadata": {},
   "source": [
    "## step4) update the configuration manager file which is present in src/config/configuration.py\n"
   ]
  },
  {
   "cell_type": "code",
   "execution_count": 3,
   "metadata": {},
   "outputs": [],
   "source": [
    "#In configuration manager file we read the yaml file and create directories accessing all the paths from it,\n",
    "#and initializing those value to entity class parameter \n",
    "\n",
    "class ConfigurationManager():\n",
    "    #creating constructor to initialize the yaml filepath\n",
    "    def __init__(self,config_filepath=CONFIG_FILEPATH,param_filepath=PARAM_FILEPATH):\n",
    "        #now reading the yaml file\n",
    "        self.config = read_yaml_file(config_filepath) #rtn values in configbox dictatonary\n",
    "        self.param = read_yaml_file(param_filepath) #rtn values in configbox dictatonary\n",
    "\n",
    "        #now creating artifacts directories\n",
    "        Create_Directory([self.config.artifacts_root]) #artifact directory created in project structure\n",
    "\n",
    "    #creating another method to initialize the value to the PrepareBaseModelConfig class variable to it and taking rtn as function\n",
    "    def get_base_model_config(self) ->PrepareBaseModelConfig:\n",
    "        self.config = self.config.prepare_base_model # rtn as configbox dictatonary\n",
    "\n",
    "        #creating root directory for prepare_base_model key of yaml file\n",
    "        Create_Directory([self.config.root_dir_path]) #artifacts/base_model directory created in project structure\n",
    "\n",
    "        #now initializing the class variable value by creating an object PrepareBaseModelConfig class!!\n",
    "        base_model_config = PrepareBaseModelConfig(\n",
    "            root_dir_path=self.config.root_dir_path,\n",
    "            base_model_path=self.config.base_model_path,\n",
    "            update_base_model_path=self.config.update_base_model_path,\n",
    "            include_top=self.param.include_top,\n",
    "            weights=self.param.weights,\n",
    "            input_shape=self.param.input_shape,\n",
    "            classes=self.param.classes,\n",
    "            batch_size=self.param.batch_size,\n",
    "            epochs=self.param.epochs,\n",
    "            learning_rate=self.param.learning_rate\n",
    "        )\n",
    "\n",
    "        return base_model_config"
   ]
  },
  {
   "cell_type": "markdown",
   "metadata": {},
   "source": [
    "## step5) update the components files"
   ]
  },
  {
   "cell_type": "code",
   "execution_count": 4,
   "metadata": {},
   "outputs": [],
   "source": [
    "#In this component files we gonna initialize the value to \n",
    "#preparebasemodel config class variable that having parameter as well as value init\n",
    "#as well creating method to complete this task of preparebasemodel\n",
    "\n",
    "class BaseModel():\n",
    "    #creating construtor to initialize the variable to preparebasemodel class!!\n",
    "    def __init__(self,config:PrepareBaseModelConfig):\n",
    "        self.config = config\n",
    "\n",
    "\n",
    "    #creating method for baseModel \n",
    "    def basemodel(self):\n",
    "        #creating an object for base model\n",
    "        self.basemodel = tensorflow.keras.applications.vgg16.VGG16(\n",
    "            weights=self.config.weights,\n",
    "            include_top=self.config.include_top,\n",
    "            input_shape=self.config.input_shape,\n",
    "            classes = self.config.classes\n",
    "    \n",
    "        )\n",
    "\n",
    "        #now saving the base model to artifacts folder\n",
    "        Save_Model(filepath=Path(self.config.base_model_path),model=self.basemodel) #this model rtn the vgg16 16 layers weights that include cnn layer+ relu layer+pooling+flatten+dense layer now using this model we r creating customize sequentual model\n",
    "\n",
    "    @staticmethod\n",
    "    def _prepare_full_custom_model(base_model,freeze,freeze_till,learning_rate,classes):\n",
    "        #creating a sequential model class object\n",
    "        sequential_model = tensorflow.keras.models.Sequential()\n",
    "\n",
    "        #now adding all the vgg16 layers to this sequential model\n",
    "        for layer in base_model.layers:\n",
    "            sequential_model.add(layer)\n",
    "\n",
    "        #now freezing all the cnn layer to sequential model except the dense layers\n",
    "        if freeze:\n",
    "            for layer in sequential_model.layers:\n",
    "                layer.trainable = False #this line show freeze the weights and bias value during training\n",
    "\n",
    "        elif (freeze_till is not None) and (freeze_till>0):\n",
    "            for layer in sequential_model.layers[:freeze_till]:\n",
    "                layer.trainable = False\n",
    "\n",
    "        #now adding flattern layer to sequential model\n",
    "        sequential_model.add(tensorflow.keras.layers.Flatten())\n",
    "\n",
    "        #adding the dense layer to sequential model\n",
    "        sequential_model.add(tensorflow.keras.layers.Dense(units = classes,activation=\"sigmoid\"))\n",
    "\n",
    "        logger.info(sequential_model)\n",
    "\n",
    "        #now compiling the model\n",
    "        sequential_model.compile(\n",
    "            optimizer=tensorflow.keras.optimizers.Adam(learning_rate=learning_rate),\n",
    "            loss = \"binary_crossentropy\",\n",
    "            metrics=[\"accuracy\"]\n",
    "        )\n",
    "\n",
    "        return sequential_model\n",
    "\n",
    "        \n",
    "    def update_base_model(self):\n",
    "        #creating an object for sequential model\n",
    "        self.sequential_model = self._prepare_full_custom_model(\n",
    "            base_model = self.basemodel,\n",
    "            freeze=True,\n",
    "            freeze_till=None,\n",
    "            learning_rate = self.config.learning_rate,\n",
    "            classes = self.config.classes\n",
    "        )\n",
    "\n",
    "        #saving the sequential model to artifacts\n",
    "        Save_Model(filepath=Path(self.config.update_base_model_path),model=self.sequential_model)"
   ]
  },
  {
   "cell_type": "code",
   "execution_count": 5,
   "metadata": {},
   "outputs": [
    {
     "data": {
      "text/plain": [
       "'d:\\\\DL MODEL\\\\ImageClassificationModel'"
      ]
     },
     "execution_count": 5,
     "metadata": {},
     "output_type": "execute_result"
    }
   ],
   "source": [
    "os.chdir('../')\n",
    "%pwd"
   ]
  },
  {
   "cell_type": "markdown",
   "metadata": {},
   "source": [
    "## step6) updating the training pipeline"
   ]
  },
  {
   "cell_type": "code",
   "execution_count": 6,
   "metadata": {},
   "outputs": [
    {
     "name": "stdout",
     "output_type": "stream",
     "text": [
      "[2024-09-10 15:46:57,789]-INFO-66-Reading the YAML file config\\config.yaml\n",
      "[2024-09-10 15:46:57,794]-INFO-69-YAML file read successfully: config\\config.yaml\n",
      "[2024-09-10 15:46:57,796]-INFO-66-Reading the YAML file params.yaml\n",
      "[2024-09-10 15:46:57,802]-INFO-69-YAML file read successfully: params.yaml\n",
      "[2024-09-10 15:46:57,804]-INFO-80-Creating Directory\n",
      "[2024-09-10 15:46:57,806]-INFO-80-Creating Directory\n",
      "[2024-09-10 15:46:59,339]-WARNING-359-Compiled the loaded model, but the compiled metrics have yet to be built. `model.compile_metrics` will be empty until you train or evaluate the model.\n"
     ]
    },
    {
     "name": "stderr",
     "output_type": "stream",
     "text": [
      "d:\\DL MODEL\\ImageClassificationModel\\cnnmodel\\lib\\site-packages\\keras\\src\\engine\\training.py:3000: UserWarning: You are saving your model as an HDF5 file via `model.save()`. This file format is considered legacy. We recommend using instead the native Keras format, e.g. `model.save('my_model.keras')`.\n",
      "  saving_api.save_model(\n"
     ]
    },
    {
     "name": "stdout",
     "output_type": "stream",
     "text": [
      "[2024-09-10 15:46:59,781]-INFO-94-Model Save to Directory\n",
      "[2024-09-10 15:47:00,029]-INFO-49-<keras.src.engine.sequential.Sequential object at 0x000002E3B5089970>\n",
      "[2024-09-10 15:47:00,429]-INFO-94-Model Save to Directory\n"
     ]
    }
   ],
   "source": [
    "try:\n",
    "    #now creating an object of configuration manager class\n",
    "    cm = ConfigurationManager()\n",
    "\n",
    "    #now calling the method to get the configuration\n",
    "    base_model_config = cm.get_base_model_config()\n",
    "\n",
    "    #creating an object of BaseModel class\n",
    "    bm = BaseModel(config=base_model_config)\n",
    "\n",
    "    #now calling the method to get the model\n",
    "    bm.basemodel()\n",
    "\n",
    "    #now calling the method to get the updated sequential model\n",
    "    bm.update_base_model()\n",
    "\n",
    "\n",
    "except Exception as e:\n",
    "    raise CustomException(e,sys)"
   ]
  },
  {
   "cell_type": "code",
   "execution_count": null,
   "metadata": {},
   "outputs": [],
   "source": []
  },
  {
   "cell_type": "code",
   "execution_count": null,
   "metadata": {},
   "outputs": [],
   "source": []
  }
 ],
 "metadata": {
  "kernelspec": {
   "display_name": "Python 3",
   "language": "python",
   "name": "python3"
  },
  "language_info": {
   "codemirror_mode": {
    "name": "ipython",
    "version": 3
   },
   "file_extension": ".py",
   "mimetype": "text/x-python",
   "name": "python",
   "nbconvert_exporter": "python",
   "pygments_lexer": "ipython3",
   "version": "3.8.16"
  }
 },
 "nbformat": 4,
 "nbformat_minor": 2
}
