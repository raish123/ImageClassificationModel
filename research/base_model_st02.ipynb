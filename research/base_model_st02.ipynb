{
 "cells": [
  {
   "cell_type": "code",
   "execution_count": 1,
   "metadata": {},
   "outputs": [
    {
     "data": {
      "text/plain": [
       "'d:\\\\DL MODEL\\\\ImageClassificationModel\\\\research'"
      ]
     },
     "execution_count": 1,
     "metadata": {},
     "output_type": "execute_result"
    }
   ],
   "source": [
    "import os\n",
    "%pwd"
   ]
  },
  {
   "cell_type": "markdown",
   "metadata": {},
   "source": [
    "## Base Model Preparing"
   ]
  },
  {
   "cell_type": "code",
   "execution_count": 2,
   "metadata": {},
   "outputs": [],
   "source": [
    "#update the Entity: taking rtn as function\n",
    "from dataclasses import dataclass\n",
    "from pathlib import Path"
   ]
  },
  {
   "cell_type": "code",
   "execution_count": 3,
   "metadata": {},
   "outputs": [],
   "source": [
    "@dataclass\n",
    "#creating class for entity and defining the class variable init\n",
    "class PrepareBaseModel_Config():\n",
    "    root_dir:Path\n",
    "    base_model_path:Path\n",
    "    update_base_model_path:Path\n",
    "    param_image_size:list\n",
    "    param_learning_rate:float\n",
    "    param_include_top:bool\n",
    "    param_weights:str\n",
    "    param_classes:int\n"
   ]
  },
  {
   "cell_type": "code",
   "execution_count": 4,
   "metadata": {},
   "outputs": [],
   "source": [
    "from src.ImageClassifier.Utils import download_data_from_s3,read_yaml_file,Create_Directory\n",
    "from src.ImageClassifier.Constants import *\n",
    "from src.ImageClassifier.Exception import CustomException\n",
    "from src.ImageClassifier.loggers import logger\n",
    "import os,sys\n"
   ]
  },
  {
   "cell_type": "code",
   "execution_count": 5,
   "metadata": {},
   "outputs": [],
   "source": [
    "#updating the configuration Manager class to prepare the basemodel file!!!\n",
    "class ConfigurationManager():\n",
    "    #creating constructor method to we used to read the yaml file and create directories accordinbgly\n",
    "    def __init__(self, config_file_path=CONFIG_FILEPATH,param_filepath=PARAM_FILEPATH):\n",
    "        #reading the yaml file taking rtn as configbox dictatonary\n",
    "        self.config = read_yaml_file(config_file_path)\n",
    "        self.param = read_yaml_file(param_filepath)\n",
    "\n",
    "        #creating directories\n",
    "        Create_Directory([self.config.artifacts_root]) #create artifacts directories\n",
    "\n",
    "    #creating another built in method to initial the base model file\n",
    "    def get_base_model_config(self) ->PrepareBaseModel_Config:\n",
    "        config = self.config.prepare_base_model #rtn configbox dictatonary\n",
    "        print(config)\n",
    "\n",
    "        #create root directories\n",
    "        Create_Directory([config.root_dir]) #artifacts/prepare_base_model create this directory\n",
    "\n",
    "        #creating an object PrepareBaseModel_Config class and passing the value to this parameter\n",
    "        prepare_base_model_config = PrepareBaseModel_Config(\n",
    "            root_dir = Path(config.root_dir),\n",
    "            base_model_path = Path(config.base_model_path),\n",
    "            update_base_model_path = Path(config.update_base_model_path),\n",
    "            param_image_size = self.param.IMAGE_SIZE,\n",
    "            param_learning_rate= self.param.LEARNING_RATE,\n",
    "            param_include_top= self.param.INCLUDE_TOP,\n",
    "            param_weights= self.param.WEIGHTS,\n",
    "            param_classes= self.param.CLASSES,\n",
    "            \n",
    "        )\n",
    "\n",
    "        return prepare_base_model_config"
   ]
  },
  {
   "cell_type": "code",
   "execution_count": 6,
   "metadata": {},
   "outputs": [],
   "source": [
    "import tensorflow as tf\n",
    "import zipfile"
   ]
  },
  {
   "cell_type": "code",
   "execution_count": 7,
   "metadata": {},
   "outputs": [],
   "source": [
    "os.chdir('../')"
   ]
  },
  {
   "cell_type": "code",
   "execution_count": 8,
   "metadata": {},
   "outputs": [],
   "source": [
    "#update the components the file\n",
    "class BaseModel():\n",
    "    def __init__(self,config:PrepareBaseModel_Config):\n",
    "        self.config = config #initilaizing variable rtn all parameter values which is defined in class variable of PrepareBaseModel_Config class\n",
    "\n",
    "    #creating another to get base model\n",
    "    def get_base_model(self):\n",
    "        self.model = tf.keras.applications.vgg16.VGG16(\n",
    "            input_shape=self.config.param_image_size,\n",
    "            weights=self.config.param_weights,\n",
    "            include_top=self.config.param_include_top,\n",
    "            classes=self.config.param_classes\n",
    "        )\n",
    "        #now saving the base Model file\n",
    "        self.save_model(path=self.config.base_model_path,model=self.model)\n",
    "\n",
    "    @staticmethod #we dont have to define its a class method or instance method\n",
    "    def _prepare_full_model(model,classes,learning_rate,freeze_all,freeze_till):\n",
    "        if freeze_all:\n",
    "            #freezing the convolutional layer to the model\n",
    "            for layer in model.layers:\n",
    "                layer.trainable = False #means dont do update weights and bias files keep it same as base model\n",
    "        elif (freeze_till is not None) and (freeze_till>0):\n",
    "            for layer in model.layers[:-freeze_till]:\n",
    "                layer.trainable = False\n",
    "\n",
    "        flatten_in = tf.keras.layers.Flatten()(model.output)\n",
    "        prediction = tf.keras.layers.Dense(\n",
    "            units=classes, activation='softmax')(flatten_in)\n",
    "        \n",
    "        full_model = tf.keras.models.Model(\n",
    "            inputs=model.input, outputs=prediction)\n",
    "        \n",
    "        #now compiling the model\n",
    "        full_model.compile(\n",
    "            optimizer=tf.keras.optimizers.Adam(learning_rate=learning_rate),\n",
    "            loss='categorical_crossentropy',\n",
    "            metrics=['accuracy']\n",
    "        )\n",
    "\n",
    "        #to check the summary of model\n",
    "        full_model.summary()\n",
    "        \n",
    "        \n",
    "        return full_model\n",
    "\n",
    "\n",
    "    #creating another method to update the model\n",
    "    def update_base_model(self): #in this model we add dense layer or outputlayer  freezing the layer to sequential model\n",
    "        self.full_model = self._prepare_full_model(\n",
    "            model=self.model,\n",
    "            classes = self.config.param_classes,\n",
    "            freeze_all = True,\n",
    "            freeze_till=None,\n",
    "            learning_rate = self.config.param_learning_rate\n",
    "        )\n",
    "\n",
    "        #now saving the updated base Model file\n",
    "        self.save_model(path=self.config.update_base_model_path,model=self.full_model)\n",
    "\n",
    "    #creating function to save model\n",
    "    @staticmethod\n",
    "    def save_model(path:Path,model:tf.keras.Model):\n",
    "        #saving the model\n",
    "        model.save(path)\n",
    "        "
   ]
  },
  {
   "cell_type": "code",
   "execution_count": 9,
   "metadata": {},
   "outputs": [
    {
     "name": "stdout",
     "output_type": "stream",
     "text": [
      "[2024-09-07 21:23:37,802]-INFO-66-Reading the YAML file config\\config.yaml\n",
      "[2024-09-07 21:23:37,807]-INFO-69-YAML file read successfully: config\\config.yaml\n",
      "[2024-09-07 21:23:37,834]-INFO-66-Reading the YAML file params.yaml\n",
      "[2024-09-07 21:23:37,853]-INFO-69-YAML file read successfully: params.yaml\n",
      "[2024-09-07 21:23:37,855]-INFO-80-Creating Directory\n",
      "{'root_dir': 'artifacts/prepare_base_model', 'base_model_path': 'artifacts/prepare_base_model/base_model.h5', 'update_base_model_path': 'artifacts/prepare_base_model/base_model_update.h5'}\n",
      "[2024-09-07 21:23:37,858]-INFO-80-Creating Directory\n",
      "[2024-09-07 21:23:37,860]-INFO-84-Directory Created at artifacts/prepare_base_model\n",
      "Downloading data from https://storage.googleapis.com/tensorflow/keras-applications/vgg16/vgg16_weights_tf_dim_ordering_tf_kernels_notop.h5\n",
      "58889256/58889256 [==============================] - 8s 0us/step\n",
      "[2024-09-07 21:23:49,902]-WARNING-359-Compiled the loaded model, but the compiled metrics have yet to be built. `model.compile_metrics` will be empty until you train or evaluate the model.\n"
     ]
    },
    {
     "name": "stderr",
     "output_type": "stream",
     "text": [
      "d:\\DL MODEL\\ImageClassificationModel\\cnnmodel\\lib\\site-packages\\keras\\src\\engine\\training.py:3000: UserWarning: You are saving your model as an HDF5 file via `model.save()`. This file format is considered legacy. We recommend using instead the native Keras format, e.g. `model.save('my_model.keras')`.\n",
      "  saving_api.save_model(\n"
     ]
    },
    {
     "name": "stdout",
     "output_type": "stream",
     "text": [
      "Model: \"model\"\n",
      "_________________________________________________________________\n",
      " Layer (type)                Output Shape              Param #   \n",
      "=================================================================\n",
      " input_1 (InputLayer)        [(None, 224, 224, 3)]     0         \n",
      "                                                                 \n",
      " block1_conv1 (Conv2D)       (None, 224, 224, 64)      1792      \n",
      "                                                                 \n",
      " block1_conv2 (Conv2D)       (None, 224, 224, 64)      36928     \n",
      "                                                                 \n",
      " block1_pool (MaxPooling2D)  (None, 112, 112, 64)      0         \n",
      "                                                                 \n",
      " block2_conv1 (Conv2D)       (None, 112, 112, 128)     73856     \n",
      "                                                                 \n",
      " block2_conv2 (Conv2D)       (None, 112, 112, 128)     147584    \n",
      "                                                                 \n",
      " block2_pool (MaxPooling2D)  (None, 56, 56, 128)       0         \n",
      "                                                                 \n",
      " block3_conv1 (Conv2D)       (None, 56, 56, 256)       295168    \n",
      "                                                                 \n",
      " block3_conv2 (Conv2D)       (None, 56, 56, 256)       590080    \n",
      "                                                                 \n",
      " block3_conv3 (Conv2D)       (None, 56, 56, 256)       590080    \n",
      "                                                                 \n",
      " block3_pool (MaxPooling2D)  (None, 28, 28, 256)       0         \n",
      "                                                                 \n",
      " block4_conv1 (Conv2D)       (None, 28, 28, 512)       1180160   \n",
      "                                                                 \n",
      " block4_conv2 (Conv2D)       (None, 28, 28, 512)       2359808   \n",
      "                                                                 \n",
      " block4_conv3 (Conv2D)       (None, 28, 28, 512)       2359808   \n",
      "                                                                 \n",
      " block4_pool (MaxPooling2D)  (None, 14, 14, 512)       0         \n",
      "                                                                 \n",
      " block5_conv1 (Conv2D)       (None, 14, 14, 512)       2359808   \n",
      "                                                                 \n",
      " block5_conv2 (Conv2D)       (None, 14, 14, 512)       2359808   \n",
      "                                                                 \n",
      " block5_conv3 (Conv2D)       (None, 14, 14, 512)       2359808   \n",
      "                                                                 \n",
      " block5_pool (MaxPooling2D)  (None, 7, 7, 512)         0         \n",
      "                                                                 \n",
      " flatten (Flatten)           (None, 25088)             0         \n",
      "                                                                 \n",
      " dense (Dense)               (None, 2)                 50178     \n",
      "                                                                 \n",
      "=================================================================\n",
      "Total params: 14764866 (56.32 MB)\n",
      "Trainable params: 50178 (196.01 KB)\n",
      "Non-trainable params: 14714688 (56.13 MB)\n",
      "_________________________________________________________________\n"
     ]
    }
   ],
   "source": [
    "#updating the pipeline\n",
    "try:\n",
    "    #creating an object of configuration manager class\n",
    "    cm = ConfigurationManager()\n",
    "    prepare_base_model_config = cm.get_base_model_config()\n",
    "\n",
    "    #creating an object of BaseModel class\n",
    "    base_model = BaseModel(config=prepare_base_model_config)\n",
    "\n",
    "    base_model.get_base_model()\n",
    "\n",
    "    base_model.update_base_model()\n",
    "\n",
    "\n",
    "    \n",
    "\n",
    "except Exception as e:\n",
    "    raise CustomException(e,sys)"
   ]
  },
  {
   "cell_type": "code",
   "execution_count": null,
   "metadata": {},
   "outputs": [],
   "source": []
  },
  {
   "cell_type": "code",
   "execution_count": null,
   "metadata": {},
   "outputs": [],
   "source": []
  },
  {
   "cell_type": "code",
   "execution_count": null,
   "metadata": {},
   "outputs": [],
   "source": []
  },
  {
   "cell_type": "code",
   "execution_count": null,
   "metadata": {},
   "outputs": [],
   "source": []
  },
  {
   "cell_type": "code",
   "execution_count": null,
   "metadata": {},
   "outputs": [],
   "source": []
  },
  {
   "cell_type": "code",
   "execution_count": null,
   "metadata": {},
   "outputs": [],
   "source": []
  },
  {
   "cell_type": "code",
   "execution_count": null,
   "metadata": {},
   "outputs": [],
   "source": []
  },
  {
   "cell_type": "code",
   "execution_count": null,
   "metadata": {},
   "outputs": [],
   "source": []
  },
  {
   "cell_type": "code",
   "execution_count": null,
   "metadata": {},
   "outputs": [],
   "source": []
  }
 ],
 "metadata": {
  "kernelspec": {
   "display_name": "Python 3",
   "language": "python",
   "name": "python3"
  },
  "language_info": {
   "codemirror_mode": {
    "name": "ipython",
    "version": 3
   },
   "file_extension": ".py",
   "mimetype": "text/x-python",
   "name": "python",
   "nbconvert_exporter": "python",
   "pygments_lexer": "ipython3",
   "version": "3.8.16"
  }
 },
 "nbformat": 4,
 "nbformat_minor": 2
}
