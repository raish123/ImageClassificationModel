{
 "cells": [
  {
   "cell_type": "code",
   "execution_count": 1,
   "metadata": {},
   "outputs": [],
   "source": [
    "from src.ImageClassifier.Utils import download_data_from_s3,read_yaml_file,Create_Directory\n",
    "from src.ImageClassifier.Constants import *\n",
    "from src.ImageClassifier.Exception import CustomException\n",
    "from src.ImageClassifier.loggers import logger\n",
    "import os,sys\n",
    "from dataclasses import dataclass\n",
    "from pathlib import Path"
   ]
  },
  {
   "cell_type": "code",
   "execution_count": 2,
   "metadata": {},
   "outputs": [
    {
     "data": {
      "text/plain": [
       "'d:\\\\DL MODEL\\\\ImageClassificationModel\\\\research'"
      ]
     },
     "execution_count": 2,
     "metadata": {},
     "output_type": "execute_result"
    }
   ],
   "source": [
    "%pwd"
   ]
  },
  {
   "cell_type": "code",
   "execution_count": 3,
   "metadata": {},
   "outputs": [],
   "source": [
    "#update the entity-->means we r defining the class variable --and taking a return function to another class\n",
    "@dataclass\n",
    "class DataIngestionConfig():\n",
    "    #definging the class variable and its rtn dtype\n",
    "    source_url: str\n",
    "    local_data_path: Path\n",
    "    root_dir:Path\n",
    "    unzip_dir:Path"
   ]
  },
  {
   "cell_type": "code",
   "execution_count": 4,
   "metadata": {},
   "outputs": [],
   "source": [
    "#update the configuration manager file in src/config/conbfiguration.py\n",
    "class ConfigurationManager():\n",
    "    def __init__(self, config_file_path=CONFIG_FILEPATH,params_file_path=PARAM_FILEPATH):\n",
    "        #reading all the yaml file \n",
    "        self.config = read_yaml_file(config_file_path) #rtn as configbox dicatonary\n",
    "        self.params = read_yaml_file(params_file_path) #rtn as paramsbox dictionary\n",
    "\n",
    "        #creating artifacts main directory through uitls fiunction\n",
    "        Create_Directory([self.config.artifacts_root]) #it will create directory artifacts in project structure\n",
    "        logger.info(f'Config Filepath {self.config} root directory Created Artifacts')\n",
    "    \n",
    "    #creating another instance method to initialize the value to class variable of DataIngestionConfig from config.yaml se\n",
    "    def get_data_ingestion_config(self) -> DataIngestionConfig:\n",
    "        self.config = self.config.dataingestion #rtn as configbox dicatonary\n",
    "        logger.info(f\"get data ingestion config instance method value {self.config}\")\n",
    "\n",
    "        #creating an object of DataIngestionConfig and initialize the class variable as value init\n",
    "        data_ingestion_config = DataIngestionConfig(\n",
    "            source_url=self.config.source_url,\n",
    "            local_data_path = self.config.local_data_file,\n",
    "            root_dir=self.config.root_dir,\n",
    "            unzip_dir=self.config.unzip_dir\n",
    "        )\n",
    "\n",
    "        return data_ingestion_config"
   ]
  },
  {
   "cell_type": "code",
   "execution_count": 5,
   "metadata": {},
   "outputs": [],
   "source": [
    "#updating the components file!!!\n",
    "class DataIngestion():\n",
    "    #constructor method to initialize the dataingestionconfig class init!!!\n",
    "    def __init__(self,config:DataIngestionConfig):\n",
    "        self.config = config #rtn parameter value init which was define\n",
    "\n",
    "        self.source_url = self.config.source_url\n",
    "        self.local_data_path = self.config.local_data_path\n",
    "        self.unzip_dir = self.config.unzip_dir\n",
    "\n",
    "\n",
    "        #calling the function download data from s3 Bucket\n",
    "        download_data_from_s3(local_data_file=self.local_data_path)\n",
    "\n",
    "\n",
    "    "
   ]
  },
  {
   "cell_type": "code",
   "execution_count": 6,
   "metadata": {},
   "outputs": [
    {
     "data": {
      "text/plain": [
       "'d:\\\\DL MODEL\\\\ImageClassificationModel'"
      ]
     },
     "execution_count": 6,
     "metadata": {},
     "output_type": "execute_result"
    }
   ],
   "source": [
    "os.chdir('../')\n",
    "%pwd"
   ]
  },
  {
   "cell_type": "code",
   "execution_count": 7,
   "metadata": {},
   "outputs": [
    {
     "name": "stdout",
     "output_type": "stream",
     "text": [
      "[2024-09-06 15:22:25,596]-INFO-66-Reading the YAML file config\\config.yaml\n",
      "[2024-09-06 15:22:25,600]-INFO-69-YAML file read successfully: config\\config.yaml\n",
      "[2024-09-06 15:22:25,603]-INFO-66-Reading the YAML file params.yaml\n",
      "[2024-09-06 15:22:25,605]-INFO-69-YAML file read successfully: params.yaml\n",
      "[2024-09-06 15:22:25,607]-INFO-80-Creating Directory\n",
      "[2024-09-06 15:22:25,609]-INFO-10-Config Filepath {'artifacts_root': 'artifacts', 'dataingestion': {'root_dir': 'artifacts/data_ingestion', 'source_url': 's3://raishmumbaibucket/Data.zip', 'local_data_file': 'artifacts/data_ingestion', 'unzip_dir': 'artifacts/data_ingestion'}} root directory Created Artifacts\n",
      "[2024-09-06 15:22:25,611]-INFO-15-get data ingestion config instance method value {'root_dir': 'artifacts/data_ingestion', 'source_url': 's3://raishmumbaibucket/Data.zip', 'local_data_file': 'artifacts/data_ingestion', 'unzip_dir': 'artifacts/data_ingestion'}\n",
      "[2024-09-06 15:22:25,615]-INFO-8-DataIngestionConfig(source_url='s3://raishmumbaibucket/Data.zip', local_data_path='artifacts/data_ingestion', root_dir='artifacts/data_ingestion', unzip_dir='artifacts/data_ingestion')\n",
      "[2024-09-06 15:22:26,200]-INFO-1278-Found credentials in shared credentials file: ~/.aws/credentials\n"
     ]
    },
    {
     "name": "stderr",
     "output_type": "stream",
     "text": [
      "d:\\DL MODEL\\ImageClassificationModel\\cnnmodel\\lib\\site-packages\\urllib3\\connectionpool.py:1064: InsecureRequestWarning: Unverified HTTPS request is being made to host 'raishmumbaibucket.s3.ap-south-1.amazonaws.com'. Adding certificate verification is strongly advised. See: https://urllib3.readthedocs.io/en/1.26.x/advanced-usage.html#ssl-warnings\n",
      "  warnings.warn(\n",
      "d:\\DL MODEL\\ImageClassificationModel\\cnnmodel\\lib\\site-packages\\urllib3\\connectionpool.py:1064: InsecureRequestWarning: Unverified HTTPS request is being made to host 'raishmumbaibucket.s3.us-east-1.amazonaws.com'. Adding certificate verification is strongly advised. See: https://urllib3.readthedocs.io/en/1.26.x/advanced-usage.html#ssl-warnings\n",
      "  warnings.warn(\n",
      "d:\\DL MODEL\\ImageClassificationModel\\cnnmodel\\lib\\site-packages\\urllib3\\connectionpool.py:1064: InsecureRequestWarning: Unverified HTTPS request is being made to host 'raishmumbaibucket.s3.us-east-1.amazonaws.com'. Adding certificate verification is strongly advised. See: https://urllib3.readthedocs.io/en/1.26.x/advanced-usage.html#ssl-warnings\n",
      "  warnings.warn(\n"
     ]
    },
    {
     "name": "stdout",
     "output_type": "stream",
     "text": [
      "[2024-09-06 15:22:28,899]-INFO-57-File Downloaded to Local_date_file artifacts/data_ingestion\n"
     ]
    }
   ],
   "source": [
    "#updating the training pipeline\n",
    "try:\n",
    "    #creating an object of configuration manager\n",
    "    cm = ConfigurationManager()\n",
    "\n",
    "    #getting built in method ConfigurationManager class\n",
    "    data_ingestion = cm.get_data_ingestion_config()\n",
    "    logger.info(data_ingestion)\n",
    "\n",
    "    #creating an object of dataingestion class\n",
    "    di = DataIngestion(config=data_ingestion)\n",
    "    \n",
    "\n",
    "except Exception as e:\n",
    "    raise CustomException(e,sys)"
   ]
  },
  {
   "cell_type": "code",
   "execution_count": 8,
   "metadata": {},
   "outputs": [],
   "source": [
    "#removing other than cat image from cat folder\n",
    "path = r'D:\\DL MODEL\\ImageClassificationModel\\artifacts\\data_ingestion\\Data\\Cat'\n",
    "for filename in os.listdir(path):\n",
    "    if not filename.endswith(\".jpg\"):\n",
    "        os.remove(filename)"
   ]
  },
  {
   "cell_type": "code",
   "execution_count": 9,
   "metadata": {},
   "outputs": [],
   "source": [
    "path = r'D:\\DL MODEL\\ImageClassificationModel\\artifacts\\data_ingestion\\Data\\Dog'\n",
    "for filename in os.listdir(path):\n",
    "    if not filename.endswith(\".jpg\"):\n",
    "        print(filename)\n",
    "        os.remove(filename)"
   ]
  }
 ],
 "metadata": {
  "kernelspec": {
   "display_name": "Python 3",
   "language": "python",
   "name": "python3"
  },
  "language_info": {
   "codemirror_mode": {
    "name": "ipython",
    "version": 3
   },
   "file_extension": ".py",
   "mimetype": "text/x-python",
   "name": "python",
   "nbconvert_exporter": "python",
   "pygments_lexer": "ipython3",
   "version": "3.8.16"
  }
 },
 "nbformat": 4,
 "nbformat_minor": 2
}
