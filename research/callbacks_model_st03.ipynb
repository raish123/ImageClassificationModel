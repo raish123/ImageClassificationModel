{
 "cells": [
  {
   "cell_type": "code",
   "execution_count": 1,
   "metadata": {},
   "outputs": [],
   "source": [
    "#In this file we create tensorboard log directory to logs or track the error file in it!!!\n",
    "#and also creating model_checkpoint_directory to save the best model file after training done"
   ]
  },
  {
   "cell_type": "code",
   "execution_count": 2,
   "metadata": {},
   "outputs": [],
   "source": [
    "from pathlib import Path\n",
    "import os,sys\n",
    "from src.ImageClassifier.Exception import CustomException\n",
    "from src.ImageClassifier.loggers import logger\n",
    "from src.ImageClassifier.Constants import *\n",
    "from src.ImageClassifier.Utils import Save_Model,Create_Directory,read_yaml_file\n",
    "from dataclasses import dataclass\n",
    "import tensorflow"
   ]
  },
  {
   "cell_type": "markdown",
   "metadata": {},
   "source": [
    "## step3) update the entity files "
   ]
  },
  {
   "cell_type": "code",
   "execution_count": 3,
   "metadata": {},
   "outputs": [],
   "source": [
    "#in these entity file we r defining the parameter which is used in yaml file as class variable\n",
    "@dataclass\n",
    "class CallBackModelConfig():\n",
    "    # define the parameters\n",
    "    root_dir_path:Path\n",
    "    tensorboard_log_dir_path:Path\n",
    "    model_checkpoint_path:Path"
   ]
  },
  {
   "cell_type": "markdown",
   "metadata": {},
   "source": [
    "## step4) upate the configurationManager file which is present in src/config/configuration.py"
   ]
  },
  {
   "cell_type": "code",
   "execution_count": 4,
   "metadata": {},
   "outputs": [],
   "source": [
    "#In the configurationmanager we file we read the yaml file and create directories\n",
    "# and also initializing the value to \n",
    "#class variable CallBackModelConfig class andtaking rtn as function\n",
    "class ConfigurationManager():\n",
    "    def __init__(self,config_filepath=CONFIG_FILEPATH,param_filepath=PARAM_FILEPATH):\n",
    "        #reading the yaml file it rtn value as configbox dictatonay\n",
    "        self.config = read_yaml_file(config_filepath)\n",
    "        self.param = read_yaml_file(param_filepath) #rtn value as configbox dictaonary\n",
    "\n",
    "        #create artifacts directory\n",
    "        Create_Directory([self.config.artifacts_root]) #artifacts directory will get created\n",
    "\n",
    "    #now initialize the class variable value to it-->for which we are creating method\n",
    "    def get_callback_config(self) ->CallBackModelConfig:\n",
    "        self.config = self.config.prepare_callback_model #rtn value as config dictatonary\n",
    "\n",
    "        self.chkpt_directory = os.path.dirname(self.config.model_checkpoint_path)\n",
    "\n",
    "        #creating directory artifacts/callback_model \n",
    "        Create_Directory([self.config.root_dir_path,self.chkpt_directory])\n",
    "\n",
    "        #now initializing value to CallBackModelConfig class variable and taking rtn as function creating an object first\n",
    "        call_back_config = CallBackModelConfig(\n",
    "            root_dir_path=self.config.root_dir_path,\n",
    "            tensorboard_log_dir_path=self.config.tensorboard_log_dir_path,\n",
    "            model_checkpoint_path=self.config.model_checkpoint_path\n",
    "        )\n",
    "\n",
    "        return call_back_config"
   ]
  },
  {
   "cell_type": "code",
   "execution_count": 5,
   "metadata": {},
   "outputs": [],
   "source": [
    "from datetime import datetime"
   ]
  },
  {
   "cell_type": "markdown",
   "metadata": {},
   "source": [
    "## step5) update the component file"
   ]
  },
  {
   "cell_type": "code",
   "execution_count": 6,
   "metadata": {},
   "outputs": [],
   "source": [
    "#in component file we gonna initialize object to CallBackModelConfig class \n",
    "#and accessing all the parameter and value init\n",
    "\n",
    "class CallBackModel():\n",
    "    def __init__(self,config:CallBackModelConfig):\n",
    "        self.config = config\n",
    "\n",
    "\n",
    "    #create method to get tensorboard log directory\n",
    "    @property\n",
    "    def _get_tensorboard_log_dir(self):\n",
    "        timestamp = datetime.now().strftime(\"%Y_%m_%d_%H_%M_%S\")\n",
    "\n",
    "        tensorboard_log_dir = os.path.join(self.config.tensorboard_log_dir_path,f\"TB_{timestamp}.log\")\n",
    "\n",
    "        # Ensure the directory exists\n",
    "        os.makedirs(os.path.dirname(tensorboard_log_dir), exist_ok=True)\n",
    "\n",
    "        tb_directory = tensorflow.keras.callbacks.TensorBoard(\n",
    "            log_dir=tensorboard_log_dir\n",
    "        )\n",
    "        return tb_directory\n",
    "    \n",
    "    #method to create model_checkpoint to save best model file after training done\n",
    "    @property\n",
    "    def _get_checkpont_model(self):\n",
    "        checkpoint_model = tensorflow.keras.callbacks.ModelCheckpoint(\n",
    "            filepath=self.config.model_checkpoint_path,\n",
    "            verbose=1,\n",
    "            save_best_only=True\n",
    "        )\n",
    "        return checkpoint_model\n",
    "\n",
    "\n",
    "\n",
    "    def callback(self):\n",
    "        return[\n",
    "        self._get_tensorboard_log_dir,\n",
    "        self._get_checkpont_model\n",
    "        ]"
   ]
  },
  {
   "cell_type": "code",
   "execution_count": 7,
   "metadata": {},
   "outputs": [
    {
     "data": {
      "text/plain": [
       "'d:\\\\DL MODEL\\\\ImageClassificationModel'"
      ]
     },
     "execution_count": 7,
     "metadata": {},
     "output_type": "execute_result"
    }
   ],
   "source": [
    "os.chdir('../')\n",
    "%pwd"
   ]
  },
  {
   "cell_type": "markdown",
   "metadata": {},
   "source": [
    "## step6) updating the pipeline file"
   ]
  },
  {
   "cell_type": "code",
   "execution_count": 8,
   "metadata": {},
   "outputs": [
    {
     "name": "stdout",
     "output_type": "stream",
     "text": [
      "[2024-09-10 17:50:01,756]-INFO-66-Reading the YAML file config\\config.yaml\n",
      "[2024-09-10 17:50:01,765]-INFO-69-YAML file read successfully: config\\config.yaml\n",
      "[2024-09-10 17:50:01,767]-INFO-66-Reading the YAML file params.yaml\n",
      "[2024-09-10 17:50:01,772]-INFO-69-YAML file read successfully: params.yaml\n",
      "[2024-09-10 17:50:01,775]-INFO-80-Creating Directory\n",
      "[2024-09-10 17:50:01,776]-INFO-80-Creating Directory\n",
      "[2024-09-10 17:50:01,892]-INFO-14-[<keras.src.callbacks.TensorBoard object at 0x000001EAD01701C0>, <keras.src.callbacks.ModelCheckpoint object at 0x000001EAD01517C0>]\n"
     ]
    }
   ],
   "source": [
    "try:\n",
    "    #creating an object of ConfigurationManager class\n",
    "    cm = ConfigurationManager()\n",
    "\n",
    "    #calling the method of class\n",
    "    call_back_config = cm.get_callback_config()\n",
    "\n",
    "    #creating an object of callbacks class\n",
    "    cb = CallBackModel(config=call_back_config)\n",
    "\n",
    "    #calling teh mthod of callbacks class\n",
    "    lst_obj = cb.callback()\n",
    "\n",
    "    logger.info(lst_obj)\n",
    "\n",
    "except Exception as e:\n",
    "    raise CustomException(e,sys)\n"
   ]
  },
  {
   "cell_type": "code",
   "execution_count": null,
   "metadata": {},
   "outputs": [],
   "source": []
  },
  {
   "cell_type": "code",
   "execution_count": null,
   "metadata": {},
   "outputs": [],
   "source": []
  },
  {
   "cell_type": "code",
   "execution_count": null,
   "metadata": {},
   "outputs": [],
   "source": []
  },
  {
   "cell_type": "code",
   "execution_count": null,
   "metadata": {},
   "outputs": [],
   "source": []
  }
 ],
 "metadata": {
  "kernelspec": {
   "display_name": "Python 3",
   "language": "python",
   "name": "python3"
  },
  "language_info": {
   "codemirror_mode": {
    "name": "ipython",
    "version": 3
   },
   "file_extension": ".py",
   "mimetype": "text/x-python",
   "name": "python",
   "nbconvert_exporter": "python",
   "pygments_lexer": "ipython3",
   "version": "3.8.16"
  }
 },
 "nbformat": 4,
 "nbformat_minor": 2
}
