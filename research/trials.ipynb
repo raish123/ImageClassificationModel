{
 "cells": [
  {
   "cell_type": "code",
   "execution_count": 1,
   "metadata": {},
   "outputs": [],
   "source": [
    "#Utils Provide Functionality To Enitre Application!!\n",
    "import os,sys\n",
    "from src.ImageClassifier.loggers import logger\n",
    "from src.ImageClassifier.Exception import CustomException\n",
    "import boto3\n",
    "import csv\n",
    "from dotenv import load_dotenv\n",
    "\n",
    "load_dotenv()  # take environment variables from .env. \n",
    "secret_key = os.getenv(key=\"Secret_access_key\")\n",
    "access_key = os.getenv(key = \"Access_key_ID\")\n",
    "region = os.getenv(key = \"Region\")\n",
    "\n",
    "#creating Function to download Data from AWS-S3 Bucket\n",
    "def download_data_from_s3():\n",
    "    global secret_key,access_key,region\n",
    "    try:\n",
    "\n",
    "        pass\n",
    "    except Exception as e:\n",
    "        raise CustomException(e,sys)"
   ]
  },
  {
   "cell_type": "code",
   "execution_count": 2,
   "metadata": {},
   "outputs": [
    {
     "name": "stdout",
     "output_type": "stream",
     "text": [
      "[2024-09-04 17:02:58,255]-INFO-1278-Found credentials in shared credentials file: ~/.aws/credentials\n"
     ]
    },
    {
     "data": {
      "text/plain": [
       "s3.ServiceResource()"
      ]
     },
     "execution_count": 2,
     "metadata": {},
     "output_type": "execute_result"
    }
   ],
   "source": [
    "#creating an object of S3 Bucket Service\n",
    "s3 = boto3.resource(\"s3\")\n",
    "s3"
   ]
  },
  {
   "cell_type": "code",
   "execution_count": 3,
   "metadata": {},
   "outputs": [
    {
     "data": {
      "text/plain": [
       "<botocore.client.S3 at 0x1bff6101580>"
      ]
     },
     "execution_count": 3,
     "metadata": {},
     "output_type": "execute_result"
    }
   ],
   "source": [
    "#now creating low level to connect to client Bucket\n",
    "client = boto3.client(\n",
    "    's3',\n",
    "    aws_access_key_id=access_key,\n",
    "    aws_secret_access_key=secret_key,\n",
    "    region_name=region,\n",
    "    verify = False\n",
    "    \n",
    ")\n",
    "client"
   ]
  },
  {
   "cell_type": "code",
   "execution_count": 4,
   "metadata": {},
   "outputs": [
    {
     "name": "stderr",
     "output_type": "stream",
     "text": [
      "d:\\DL MODEL\\ImageClassificationModel\\cnnmodel\\lib\\site-packages\\urllib3\\connectionpool.py:1064: InsecureRequestWarning: Unverified HTTPS request is being made to host 's3.ap-south-1.amazonaws.com'. Adding certificate verification is strongly advised. See: https://urllib3.readthedocs.io/en/1.26.x/advanced-usage.html#ssl-warnings\n",
      "  warnings.warn(\n"
     ]
    },
    {
     "data": {
      "text/plain": [
       "[{'Name': 'raishmumbaibucket',\n",
       "  'CreationDate': datetime.datetime(2024, 9, 3, 10, 9, 30, tzinfo=tzutc())}]"
      ]
     },
     "execution_count": 4,
     "metadata": {},
     "output_type": "execute_result"
    }
   ],
   "source": [
    "client.list_buckets()['Buckets']"
   ]
  },
  {
   "cell_type": "code",
   "execution_count": 5,
   "metadata": {},
   "outputs": [
    {
     "data": {
      "text/plain": [
       "s3.Bucket(name='raishmumbaibucket')"
      ]
     },
     "execution_count": 5,
     "metadata": {},
     "output_type": "execute_result"
    }
   ],
   "source": [
    "bucket = s3.Bucket('raishmumbaibucket')\n",
    "bucket"
   ]
  },
  {
   "cell_type": "code",
   "execution_count": 6,
   "metadata": {},
   "outputs": [],
   "source": [
    "object_key='Data.zip'\n",
    "bucket_name='raishmumbaibucket'"
   ]
  },
  {
   "cell_type": "code",
   "execution_count": 7,
   "metadata": {},
   "outputs": [
    {
     "name": "stdout",
     "output_type": "stream",
     "text": [
      "s3.ObjectSummary(bucket_name='raishmumbaibucket', key='Data.zip')\n",
      "s3.ObjectSummary(bucket_name='raishmumbaibucket', key='WineQT.zip')\n"
     ]
    }
   ],
   "source": [
    "for i in bucket.objects.filter():\n",
    "    print(i)"
   ]
  },
  {
   "cell_type": "code",
   "execution_count": 8,
   "metadata": {},
   "outputs": [],
   "source": [
    "# Specify the path where you want to save the downloaded file\n",
    "download_path = 'path/to/save/filename.ext' #we take it from yaml files"
   ]
  },
  {
   "cell_type": "code",
   "execution_count": 13,
   "metadata": {},
   "outputs": [
    {
     "name": "stderr",
     "output_type": "stream",
     "text": [
      "d:\\DL MODEL\\ImageClassificationModel\\cnnmodel\\lib\\site-packages\\urllib3\\connectionpool.py:1064: InsecureRequestWarning: Unverified HTTPS request is being made to host 'raishmumbaibucket.s3.us-east-1.amazonaws.com'. Adding certificate verification is strongly advised. See: https://urllib3.readthedocs.io/en/1.26.x/advanced-usage.html#ssl-warnings\n",
      "  warnings.warn(\n"
     ]
    },
    {
     "data": {
      "text/plain": [
       "{'ResponseMetadata': {'RequestId': '5AWXDQEZM8C5QJDP',\n",
       "  'HostId': '9+0G3VMMOWuzWmI3U6/ZFCBD0E7kf4UhWwxxQzjP267IL39vcPmjDINtFJxHTbGkzZBqBQjNEyo=',\n",
       "  'HTTPStatusCode': 200,\n",
       "  'HTTPHeaders': {'x-amz-id-2': '9+0G3VMMOWuzWmI3U6/ZFCBD0E7kf4UhWwxxQzjP267IL39vcPmjDINtFJxHTbGkzZBqBQjNEyo=',\n",
       "   'x-amz-request-id': '5AWXDQEZM8C5QJDP',\n",
       "   'date': 'Wed, 04 Sep 2024 11:39:34 GMT',\n",
       "   'last-modified': 'Wed, 04 Sep 2024 08:33:11 GMT',\n",
       "   'etag': '\"eabdab02fefc4d53fd080edec3dc904d\"',\n",
       "   'x-amz-server-side-encryption': 'AES256',\n",
       "   'x-amz-version-id': 'v69OHCM8hHphg4jr3aNimMBcJovjZb_s',\n",
       "   'accept-ranges': 'bytes',\n",
       "   'content-type': 'application/zip',\n",
       "   'server': 'AmazonS3',\n",
       "   'content-length': '1025961'},\n",
       "  'RetryAttempts': 0},\n",
       " 'AcceptRanges': 'bytes',\n",
       " 'LastModified': datetime.datetime(2024, 9, 4, 8, 33, 11, tzinfo=tzutc()),\n",
       " 'ContentLength': 1025961,\n",
       " 'ETag': '\"eabdab02fefc4d53fd080edec3dc904d\"',\n",
       " 'VersionId': 'v69OHCM8hHphg4jr3aNimMBcJovjZb_s',\n",
       " 'ContentType': 'application/zip',\n",
       " 'ServerSideEncryption': 'AES256',\n",
       " 'Metadata': {},\n",
       " 'Body': <botocore.response.StreamingBody at 0x1bff9f14160>}"
      ]
     },
     "execution_count": 13,
     "metadata": {},
     "output_type": "execute_result"
    }
   ],
   "source": [
    "response = client.get_object(Bucket=bucket_name, Key=object_key)\n",
    "response"
   ]
  },
  {
   "cell_type": "code",
   "execution_count": null,
   "metadata": {},
   "outputs": [],
   "source": [
    "#Download the file\n",
    "with open(local_zip_path, 'wb') as file:\n",
    "    s3_client.download_fileobj(bucket_name, object_key, file)"
   ]
  }
 ],
 "metadata": {
  "kernelspec": {
   "display_name": "Python 3",
   "language": "python",
   "name": "python3"
  },
  "language_info": {
   "codemirror_mode": {
    "name": "ipython",
    "version": 3
   },
   "file_extension": ".py",
   "mimetype": "text/x-python",
   "name": "python",
   "nbconvert_exporter": "python",
   "pygments_lexer": "ipython3",
   "version": "3.8.16"
  }
 },
 "nbformat": 4,
 "nbformat_minor": 2
}
